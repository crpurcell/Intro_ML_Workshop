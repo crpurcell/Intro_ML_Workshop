{
 "cells": [
  {
   "cell_type": "markdown",
   "metadata": {},
   "source": [
    "# Artificial Neural Networks\n",
    "\n",
    "Artifical neural networks (ANNs) are applied as a supervised learning technique to classify data into known classes.\n",
    "\n",
    "![SegmentLocal](Images/curve_fit.png \"curvefit\")\n",
    "\n",
    "\n",
    "\\begin{align}\n",
    "y & = W_1\\,x4 + W_2\\,x^3 + W_3\\,x^2 + W_4\\,x + W_5\\\\\n",
    "\\end{align}\n",
    "\n",
    "You can think of them as a cousin of familiar regression or curve-fitting, but taken to higher dimensions. For example, when fitting a polynomial curve to a dataset we learn the values of the coefficients $W$ so that the model curve can accurately predict an outcome given input data. Similarly, for an ANN classifier, we learn a set of weights (coefficients) between the neurons so the the network can accurately predict a label for input data.\n",
    "\n",
    "![SegmentLocal](Images/ANN_1layer.svg \"ANN1\")\n",
    "\n",
    "In both cases the fitting procedure employs a measure of how well model performs. For curve fitting the distance between the data and model is minimised (e.g., $\\chi^2$ or least-squared distance), while for an ANN classifier a *loss function* is minimised.\n",
    "\n",
    "When training the classifier, the loss function desires the following state:\n",
    "\n",
    "<img src=\"Images/loss_margin.jpg\">\n",
    "\n",
    "Scores inside the red region (or higher) will accumulate a loss, while scores below will accumulate zero loss.\n",
    "\n",
    "## Stochastic Gradient Descent and mini-batches\n",
    "\n",
    "Minimisation is done iteratively vis gradient descent:\n",
    " * Randomly initialise the weights between neurons\n",
    " * assess the performance of the network using the loss function\n",
    " * examine the slope of the loss surface and jump 'down-hill'\n",
    " * rinse and repeat until no improvement is seen\n",
    "\n",
    "![SegmentLocal](Images/grad_descent.gif \"descent\")\n",
    "\n",
    "This is superficially similar fitting a polynomial curve, however, there are two major differences:\n",
    " 1. the weight coeefficients are not independent - the output of neurons are affected by all in the chain before them\n",
    " 1. the very large datasets required by ANNs will not fit in memory\n",
    " \n",
    "The first probem is addressed by back-probagating the gradients using the chain-rule. The second problem is solved by only training on a subset of the data, called a 'mini-batch' (or just 'batch'), and randomly changing the selection of this data every cycle."
   ]
  },
  {
   "cell_type": "markdown",
   "metadata": {},
   "source": [
    "## Implementing ANNs using Keras\n",
    "\n",
    "In the last 10 years there has been an explosion in the availability of software for [deep learning](https://en.wikipedia.org/wiki/Comparison_of_deep-learning_software). One of the most popular is [Keras](https://keras.io/), which is a layer on top of Google's [TensorFlow](https://www.tensorflow.org/versions) machine learning and matrix manipulation library. (Alternatives are PyTorch, developed by Facebook, and CNTK by Microsoft). \n",
    "\n",
    "Performing the gradient descent step on even moderately large ANNs requires very intensive calculations. TensorFlow (and Keras) can take advantage of the parallel processing power offered by Graphics Processing Units (GPUs) to vastly accelerate the training step.\n"
   ]
  },
  {
   "cell_type": "markdown",
   "metadata": {},
   "source": [
    "## Classifying handwriting - the MNIST dataset\n",
    "\n",
    "Historically, one of the simplest tasks ANNs were applied to was handwriting recognition. In this notebook we will build an ANN to classify small images of handwritten digits [0 - 9]. This is a classic entry-level problem in machine learning.\n",
    "\n",
    "The Modified National Institute of Standards and Technology (MNIST) dataset contains 60,000 training images and 10,000 testing images of handwritten digits as 28x28 pixel black & white images.\n",
    "\n",
    "![SegmentLocal](Images/MNIST_grid.png \"MNIST_grid\")\n",
    "\n",
    "These images are encoded with intensity values [0 - 255], so we usually scale them [0 - 1] by dividing by 255.0."
   ]
  },
  {
   "cell_type": "markdown",
   "metadata": {},
   "source": [
    "### Coding the classifier\n",
    "\n",
    "Here we build a simple neural network classifier with two 'hidden layers'. The number of neurons in the *input layer* corresponds to each pixel of an image fed into the network. The number of neurons in the *output layer* corresponds to the possible classes.\n",
    "\n",
    "![SegmentLocal](Images/ANN_2layers.png \"ANN2\")"
   ]
  },
  {
   "cell_type": "markdown",
   "metadata": {},
   "source": [
    "For convenience the MNIST data is stored on disk as a Numpy save file containing a 3D array (images) or 1D array (labels 0 - 9). It is small enough to fit into memory. In this case, the data is already split into training ans tets sets."
   ]
  },
  {
   "cell_type": "code",
   "execution_count": 1,
   "metadata": {},
   "outputs": [
    {
     "name": "stdout",
     "output_type": "stream",
     "text": [
      "Training array shape: (20000, 28, 28)\n",
      "Labels shape (20000,)\n"
     ]
    }
   ],
   "source": [
    "import numpy as np\n",
    "\n",
    "# Load the training images and labels from Numpy save files\n",
    "trainX = np.load('DATA/minimnist/train_images.npy')\n",
    "trainY = np.load('DATA/minimnist/train_labels.npy')\n",
    "print(\"Training array shape:\", trainX.shape)\n",
    "print(\"Labels shape\", trainY.shape)"
   ]
  },
  {
   "cell_type": "code",
   "execution_count": 2,
   "metadata": {},
   "outputs": [
    {
     "name": "stdout",
     "output_type": "stream",
     "text": [
      "Training array shape: (5000, 28, 28)\n",
      "Labels shape (5000,)\n"
     ]
    }
   ],
   "source": [
    "# Load the testing images and labels from Numpy save files\n",
    "testX = np.load('DATA/minimnist/test_images.npy')\n",
    "testY = np.load('DATA/minimnist/test_labels.npy')\n",
    "print(\"Training array shape:\", testX.shape)\n",
    "print(\"Labels shape\", testY.shape)"
   ]
  },
  {
   "cell_type": "markdown",
   "metadata": {},
   "source": [
    "Let's plot an individual image and display some statistics of the inetensity:"
   ]
  },
  {
   "cell_type": "code",
   "execution_count": 4,
   "metadata": {},
   "outputs": [
    {
     "name": "stdout",
     "output_type": "stream",
     "text": [
      "Min intensity =  0\n",
      "Max intensity =  255\n",
      "Image label =  7\n",
      "Encoding =  uint8\n"
     ]
    },
    {
     "data": {
      "image/png": "[encoded data removed]",
      "text/plain": [
       "<Figure size 432x288 with 1 Axes>"
      ]
     },
     "metadata": {},
     "output_type": "display_data"
    }
   ],
   "source": [
    "import matplotlib.pyplot as plt\n",
    "%matplotlib inline\n",
    "\n",
    "# Show a randomly chosen image\n",
    "img = testX[17,:,:]\n",
    "plt.imshow(img)\n",
    "\n",
    "# Determine some stats and print\n",
    "print(\"Min intensity = \", np.nanmin(img))\n",
    "print(\"Max intensity = \", np.nanmax(img))\n",
    "print(\"Image label = \", testY[17])\n",
    "print(\"Encoding = \", img.dtype)"
   ]
  },
  {
   "cell_type": "markdown",
   "metadata": {},
   "source": [
    "Both the training and test data should be converted into floating point precision and scaled into the range [0 - 1]. Machine learning algorithms tend to expect data in this format, unless otherwise specified."
   ]
  },
  {
   "cell_type": "code",
   "execution_count": 5,
   "metadata": {},
   "outputs": [
    {
     "name": "stdout",
     "output_type": "stream",
     "text": [
      "Min intensity =  0.0\n",
      "Max intensity =  1.0\n"
     ]
    }
   ],
   "source": [
    "# Scale the intensities [0, 1]\n",
    "trainX = trainX.astype(\"float\")  /255.0\n",
    "testX = testX.astype(\"float\")  /255.0\n",
    "print(\"Min intensity = \", np.nanmin(trainX[17]))\n",
    "print(\"Max intensity = \", np.nanmax(trainX[17]))"
   ]
  },
  {
   "cell_type": "markdown",
   "metadata": {},
   "source": [
    "Just like with Scikit Learn, we need to re-encode our labels as one-hot vectors:"
   ]
  },
  {
   "cell_type": "code",
   "execution_count": 6,
   "metadata": {},
   "outputs": [
    {
     "name": "stdout",
     "output_type": "stream",
     "text": [
      "[0 0 0 0 0 0 0 1 0 0]\n"
     ]
    },
    {
     "data": {
      "text/plain": [
       "array([[7]], dtype=uint8)"
      ]
     },
     "execution_count": 6,
     "metadata": {},
     "output_type": "execute_result"
    }
   ],
   "source": [
    "from sklearn.preprocessing import LabelBinarizer\n",
    "\n",
    "# Create one-hot label vectors\n",
    "lb = LabelBinarizer()\n",
    "trainY = lb.fit_transform(trainY)\n",
    "testY = lb.transform(testY)\n",
    "\n",
    "# Show that we have done the converson OK\n",
    "print(testY[0])\n",
    "indx = np.argwhere(testY[0])\n",
    "lb.classes_[indx]"
   ]
  },
  {
   "cell_type": "markdown",
   "metadata": {},
   "source": [
    "We also need to flatten each image into a vector of 784 pixels so that it can be injected into the bottom layer of the network."
   ]
  },
  {
   "cell_type": "code",
   "execution_count": 7,
   "metadata": {},
   "outputs": [
    {
     "name": "stdout",
     "output_type": "stream",
     "text": [
      "(20000, 784)\n"
     ]
    }
   ],
   "source": [
    "# Reshape the train and test image stacks\n",
    "trainX = trainX.reshape((-1, 784))\n",
    "testX = testX.reshape((-1, 784))\n",
    "print(trainX.shape)"
   ]
  },
  {
   "cell_type": "markdown",
   "metadata": {},
   "source": [
    "Now it is time to define the architecture of our network. Keras supports the creation of complicated networks with multiple input or output branchs. However, we will define a simple straight-through network with two hidden layers containing 256 and 128 neurons, respectively. There should be 784 input neurons corresponding to the number of pixels in an image (28 * 28) and 10 output neurons, one for each digit.\n",
    "\n",
    "In Keras, the 'Dense' layer represents a layer of neurons where each neuron will be connected to all other neurons in layers immediately above and below. \n",
    "\n",
    "The activation function scales the output of the neuron in a non-linear way, allowing the network to model non-linear systems.\n",
    "\n",
    "![SegmentLocal](Images/SigmoidFunction.png \"sigmoid\")"
   ]
  },
  {
   "cell_type": "code",
   "execution_count": 8,
   "metadata": {},
   "outputs": [
    {
     "name": "stderr",
     "output_type": "stream",
     "text": [
      "Using TensorFlow backend.\n"
     ]
    }
   ],
   "source": [
    "from keras.models import Sequential\n",
    "from keras.layers.core import Dense\n",
    "\n",
    "# Define 784-256-128-10 architecture using Keras\n",
    "model = Sequential()\n",
    "model.add(Dense(256, input_shape=(784,), activation=\"sigmoid\"))\n",
    "model.add(Dense(128, activation=\"sigmoid\"))\n",
    "model.add(Dense(10, activation=\"softmax\"))"
   ]
  },
  {
   "cell_type": "markdown",
   "metadata": {},
   "source": [
    "Once the model has been defined we need to pick a loss function to assess it's performance and run the gradient descent algorithm. There are also a number of tweaked optimiser algorithms avaialable, however SGD works fine as a default. \n",
    "\n",
    "The optimiser also accepts a 'learning rate', a hyperparameter that controls how much to change the model in response to the estimated error each time the model weights are updated. Choosing the learning rate is challenging as a value too small may result in a long training process that could get stuck, whereas a value too large may result in learning a sub-optimal set of weights too fast or an unstable training process.\n",
    "\n",
    "At this point we wlso need to choose a batch size (how much data can we fit in memory?) and number of ephocs to train for (how many times do we push a batch throughthe network to train it."
   ]
  },
  {
   "cell_type": "code",
   "execution_count": 9,
   "metadata": {},
   "outputs": [
    {
     "name": "stdout",
     "output_type": "stream",
     "text": [
      "Train on 20000 samples, validate on 5000 samples\n",
      "Epoch 1/100\n",
      "20000/20000 [==============================] - 2s 102us/step - loss: 2.3014 - acc: 0.1409 - val_loss: 2.2720 - val_acc: 0.2368\n",
      "Epoch 2/100\n",
      "20000/20000 [==============================] - 2s 100us/step - loss: 2.2460 - acc: 0.2638 - val_loss: 2.2316 - val_acc: 0.3104\n",
      "Epoch 3/100\n",
      "20000/20000 [==============================] - 2s 85us/step - loss: 2.1973 - acc: 0.3955 - val_loss: 2.1821 - val_acc: 0.5432\n",
      "Epoch 4/100\n",
      "20000/20000 [==============================] - 2s 85us/step - loss: 2.1392 - acc: 0.5070 - val_loss: 2.1231 - val_acc: 0.4156\n",
      "Epoch 5/100\n",
      "20000/20000 [==============================] - 2s 83us/step - loss: 2.0640 - acc: 0.5501 - val_loss: 2.0433 - val_acc: 0.5408\n",
      "Epoch 6/100\n",
      "20000/20000 [==============================] - 2s 83us/step - loss: 1.9672 - acc: 0.5954 - val_loss: 1.9412 - val_acc: 0.5976\n",
      "Epoch 7/100\n",
      "20000/20000 [==============================] - 2s 87us/step - loss: 1.8459 - acc: 0.6248 - val_loss: 1.8183 - val_acc: 0.5894\n",
      "Epoch 8/100\n",
      "20000/20000 [==============================] - 2s 83us/step - loss: 1.7037 - acc: 0.6458 - val_loss: 1.6789 - val_acc: 0.6116\n",
      "Epoch 9/100\n",
      "20000/20000 [==============================] - 2s 87us/step - loss: 1.5528 - acc: 0.6714 - val_loss: 1.5388 - val_acc: 0.6228\n",
      "Epoch 10/100\n",
      "20000/20000 [==============================] - 2s 85us/step - loss: 1.4066 - acc: 0.6941 - val_loss: 1.4039 - val_acc: 0.6648\n",
      "Epoch 11/100\n",
      "20000/20000 [==============================] - 2s 86us/step - loss: 1.2750 - acc: 0.7162 - val_loss: 1.2851 - val_acc: 0.7020\n",
      "Epoch 12/100\n",
      "20000/20000 [==============================] - 2s 88us/step - loss: 1.1621 - acc: 0.7384 - val_loss: 1.1857 - val_acc: 0.7008\n",
      "Epoch 13/100\n",
      "20000/20000 [==============================] - 2s 87us/step - loss: 1.0668 - acc: 0.7526 - val_loss: 1.1017 - val_acc: 0.7212\n",
      "Epoch 14/100\n",
      "20000/20000 [==============================] - 2s 87us/step - loss: 0.9872 - acc: 0.7671 - val_loss: 1.0318 - val_acc: 0.7318\n",
      "Epoch 15/100\n",
      "20000/20000 [==============================] - 2s 88us/step - loss: 0.9203 - acc: 0.7820 - val_loss: 0.9727 - val_acc: 0.7450\n",
      "Epoch 16/100\n",
      "20000/20000 [==============================] - 2s 88us/step - loss: 0.8634 - acc: 0.7936 - val_loss: 0.9206 - val_acc: 0.7546\n",
      "Epoch 17/100\n",
      "20000/20000 [==============================] - 2s 88us/step - loss: 0.8149 - acc: 0.8028 - val_loss: 0.8760 - val_acc: 0.7652\n",
      "Epoch 18/100\n",
      "20000/20000 [==============================] - 2s 88us/step - loss: 0.7726 - acc: 0.8123 - val_loss: 0.8391 - val_acc: 0.7680\n",
      "Epoch 19/100\n",
      "20000/20000 [==============================] - 2s 88us/step - loss: 0.7357 - acc: 0.8183 - val_loss: 0.8021 - val_acc: 0.7866\n",
      "Epoch 20/100\n",
      "20000/20000 [==============================] - 2s 86us/step - loss: 0.7031 - acc: 0.8270 - val_loss: 0.7729 - val_acc: 0.7896\n",
      "Epoch 21/100\n",
      "20000/20000 [==============================] - 2s 87us/step - loss: 0.6743 - acc: 0.8315 - val_loss: 0.7479 - val_acc: 0.7942\n",
      "Epoch 22/100\n",
      "20000/20000 [==============================] - 2s 88us/step - loss: 0.6484 - acc: 0.8379 - val_loss: 0.7230 - val_acc: 0.7990\n",
      "Epoch 23/100\n",
      "20000/20000 [==============================] - 2s 88us/step - loss: 0.6252 - acc: 0.8436 - val_loss: 0.7035 - val_acc: 0.8076\n",
      "Epoch 24/100\n",
      "20000/20000 [==============================] - 2s 88us/step - loss: 0.6044 - acc: 0.8469 - val_loss: 0.6814 - val_acc: 0.8132\n",
      "Epoch 25/100\n",
      "20000/20000 [==============================] - 2s 88us/step - loss: 0.5851 - acc: 0.8515 - val_loss: 0.6627 - val_acc: 0.8160\n",
      "Epoch 26/100\n",
      "20000/20000 [==============================] - 2s 88us/step - loss: 0.5681 - acc: 0.8554 - val_loss: 0.6466 - val_acc: 0.8210\n",
      "Epoch 27/100\n",
      "20000/20000 [==============================] - 2s 98us/step - loss: 0.5523 - acc: 0.8596 - val_loss: 0.6319 - val_acc: 0.8240\n",
      "Epoch 28/100\n",
      "20000/20000 [==============================] - 2s 96us/step - loss: 0.5379 - acc: 0.8623 - val_loss: 0.6193 - val_acc: 0.8246\n",
      "Epoch 29/100\n",
      "20000/20000 [==============================] - 2s 89us/step - loss: 0.5244 - acc: 0.8643 - val_loss: 0.6069 - val_acc: 0.8298\n",
      "Epoch 30/100\n",
      "20000/20000 [==============================] - 2s 106us/step - loss: 0.5120 - acc: 0.8674 - val_loss: 0.5941 - val_acc: 0.8318\n",
      "Epoch 31/100\n",
      "20000/20000 [==============================] - 3s 144us/step - loss: 0.5006 - acc: 0.8699 - val_loss: 0.5838 - val_acc: 0.8358\n",
      "Epoch 32/100\n",
      "20000/20000 [==============================] - 2s 93us/step - loss: 0.4900 - acc: 0.8730 - val_loss: 0.5738 - val_acc: 0.8400\n",
      "Epoch 33/100\n",
      "20000/20000 [==============================] - 3s 135us/step - loss: 0.4800 - acc: 0.8744 - val_loss: 0.5630 - val_acc: 0.8442\n",
      "Epoch 34/100\n",
      "20000/20000 [==============================] - 2s 108us/step - loss: 0.4708 - acc: 0.8762 - val_loss: 0.5538 - val_acc: 0.8472\n",
      "Epoch 35/100\n",
      "20000/20000 [==============================] - 2s 97us/step - loss: 0.4623 - acc: 0.8774 - val_loss: 0.5456 - val_acc: 0.8480\n",
      "Epoch 36/100\n",
      "20000/20000 [==============================] - 2s 87us/step - loss: 0.4541 - acc: 0.8793 - val_loss: 0.5383 - val_acc: 0.8494\n",
      "Epoch 37/100\n",
      "20000/20000 [==============================] - 1s 69us/step - loss: 0.4465 - acc: 0.8803 - val_loss: 0.5300 - val_acc: 0.8500\n",
      "Epoch 38/100\n",
      "20000/20000 [==============================] - 1s 66us/step - loss: 0.4395 - acc: 0.8831 - val_loss: 0.5224 - val_acc: 0.8544\n",
      "Epoch 39/100\n",
      "20000/20000 [==============================] - 1s 64us/step - loss: 0.4328 - acc: 0.8838 - val_loss: 0.5178 - val_acc: 0.8546\n",
      "Epoch 40/100\n",
      "20000/20000 [==============================] - 1s 65us/step - loss: 0.4265 - acc: 0.8858 - val_loss: 0.5114 - val_acc: 0.8542\n",
      "Epoch 41/100\n",
      "20000/20000 [==============================] - 1s 65us/step - loss: 0.4207 - acc: 0.8860 - val_loss: 0.5046 - val_acc: 0.8574\n",
      "Epoch 42/100\n",
      "20000/20000 [==============================] - 1s 65us/step - loss: 0.4150 - acc: 0.8882 - val_loss: 0.4993 - val_acc: 0.8574\n",
      "Epoch 43/100\n",
      "20000/20000 [==============================] - 1s 64us/step - loss: 0.4097 - acc: 0.8895 - val_loss: 0.4933 - val_acc: 0.8588\n",
      "Epoch 44/100\n",
      "20000/20000 [==============================] - 1s 64us/step - loss: 0.4048 - acc: 0.8911 - val_loss: 0.4889 - val_acc: 0.8620\n",
      "Epoch 45/100\n",
      "20000/20000 [==============================] - 1s 65us/step - loss: 0.4000 - acc: 0.8913 - val_loss: 0.4841 - val_acc: 0.8626\n",
      "Epoch 46/100\n",
      "20000/20000 [==============================] - 1s 64us/step - loss: 0.3956 - acc: 0.8928 - val_loss: 0.4801 - val_acc: 0.8644\n",
      "Epoch 47/100\n",
      "20000/20000 [==============================] - 1s 64us/step - loss: 0.3914 - acc: 0.8927 - val_loss: 0.4759 - val_acc: 0.8646\n",
      "Epoch 48/100\n",
      "20000/20000 [==============================] - 1s 65us/step - loss: 0.3871 - acc: 0.8942 - val_loss: 0.4727 - val_acc: 0.8654\n",
      "Epoch 49/100\n",
      "20000/20000 [==============================] - 1s 65us/step - loss: 0.3834 - acc: 0.8947 - val_loss: 0.4672 - val_acc: 0.8672\n",
      "Epoch 50/100\n",
      "20000/20000 [==============================] - 1s 64us/step - loss: 0.3797 - acc: 0.8954 - val_loss: 0.4635 - val_acc: 0.8702\n",
      "Epoch 51/100\n",
      "20000/20000 [==============================] - 1s 65us/step - loss: 0.3761 - acc: 0.8968 - val_loss: 0.4611 - val_acc: 0.8696\n",
      "Epoch 52/100\n",
      "20000/20000 [==============================] - 1s 67us/step - loss: 0.3728 - acc: 0.8979 - val_loss: 0.4563 - val_acc: 0.8702\n",
      "Epoch 53/100\n",
      "20000/20000 [==============================] - 1s 66us/step - loss: 0.3694 - acc: 0.8978 - val_loss: 0.4541 - val_acc: 0.8710\n",
      "Epoch 54/100\n",
      "20000/20000 [==============================] - 1s 64us/step - loss: 0.3666 - acc: 0.8986 - val_loss: 0.4506 - val_acc: 0.8720\n",
      "Epoch 55/100\n",
      "20000/20000 [==============================] - 1s 65us/step - loss: 0.3635 - acc: 0.8992 - val_loss: 0.4468 - val_acc: 0.8724\n",
      "Epoch 56/100\n",
      "20000/20000 [==============================] - 1s 65us/step - loss: 0.3608 - acc: 0.8996 - val_loss: 0.4456 - val_acc: 0.8718\n",
      "Epoch 57/100\n",
      "20000/20000 [==============================] - 1s 63us/step - loss: 0.3579 - acc: 0.9003 - val_loss: 0.4437 - val_acc: 0.8724\n",
      "Epoch 58/100\n",
      "20000/20000 [==============================] - 1s 64us/step - loss: 0.3553 - acc: 0.9004 - val_loss: 0.4410 - val_acc: 0.8730\n",
      "Epoch 59/100\n",
      "20000/20000 [==============================] - 1s 64us/step - loss: 0.3528 - acc: 0.9013 - val_loss: 0.4371 - val_acc: 0.8760\n",
      "Epoch 60/100\n",
      "20000/20000 [==============================] - 1s 74us/step - loss: 0.3502 - acc: 0.9020 - val_loss: 0.4348 - val_acc: 0.8752\n",
      "Epoch 61/100\n",
      "20000/20000 [==============================] - 1s 67us/step - loss: 0.3480 - acc: 0.9022 - val_loss: 0.4316 - val_acc: 0.8764\n",
      "Epoch 62/100\n",
      "20000/20000 [==============================] - 1s 65us/step - loss: 0.3455 - acc: 0.9028 - val_loss: 0.4300 - val_acc: 0.8756\n",
      "Epoch 63/100\n",
      "20000/20000 [==============================] - 1s 65us/step - loss: 0.3435 - acc: 0.9044 - val_loss: 0.4285 - val_acc: 0.8756\n",
      "Epoch 64/100\n",
      "20000/20000 [==============================] - 1s 64us/step - loss: 0.3411 - acc: 0.9047 - val_loss: 0.4244 - val_acc: 0.8784\n",
      "Epoch 65/100\n",
      "20000/20000 [==============================] - 1s 64us/step - loss: 0.3392 - acc: 0.9048 - val_loss: 0.4233 - val_acc: 0.8780\n",
      "Epoch 66/100\n",
      "20000/20000 [==============================] - 1s 63us/step - loss: 0.3371 - acc: 0.9059 - val_loss: 0.4211 - val_acc: 0.8786\n",
      "Epoch 67/100\n",
      "20000/20000 [==============================] - 1s 63us/step - loss: 0.3352 - acc: 0.9057 - val_loss: 0.4200 - val_acc: 0.8804\n",
      "Epoch 68/100\n",
      "20000/20000 [==============================] - 1s 64us/step - loss: 0.3333 - acc: 0.9064 - val_loss: 0.4184 - val_acc: 0.8790\n",
      "Epoch 69/100\n",
      "20000/20000 [==============================] - 1s 63us/step - loss: 0.3314 - acc: 0.9071 - val_loss: 0.4146 - val_acc: 0.8810\n",
      "Epoch 70/100\n",
      "20000/20000 [==============================] - 1s 63us/step - loss: 0.3295 - acc: 0.9080 - val_loss: 0.4148 - val_acc: 0.8794\n",
      "Epoch 71/100\n",
      "20000/20000 [==============================] - 1s 63us/step - loss: 0.3280 - acc: 0.9077 - val_loss: 0.4117 - val_acc: 0.8814\n",
      "Epoch 72/100\n",
      "20000/20000 [==============================] - 1s 63us/step - loss: 0.3260 - acc: 0.9086 - val_loss: 0.4102 - val_acc: 0.8836\n",
      "Epoch 73/100\n",
      "20000/20000 [==============================] - 1s 64us/step - loss: 0.3243 - acc: 0.9085 - val_loss: 0.4087 - val_acc: 0.8826\n",
      "Epoch 74/100\n",
      "20000/20000 [==============================] - 1s 64us/step - loss: 0.3228 - acc: 0.9099 - val_loss: 0.4072 - val_acc: 0.8822\n",
      "Epoch 75/100\n",
      "20000/20000 [==============================] - 3s 158us/step - loss: 0.3213 - acc: 0.9095 - val_loss: 0.4049 - val_acc: 0.8830\n",
      "Epoch 76/100\n",
      "20000/20000 [==============================] - 2s 92us/step - loss: 0.3196 - acc: 0.9103 - val_loss: 0.4040 - val_acc: 0.8830\n",
      "Epoch 77/100\n",
      "20000/20000 [==============================] - 2s 80us/step - loss: 0.3181 - acc: 0.9112 - val_loss: 0.4017 - val_acc: 0.8834\n",
      "Epoch 78/100\n",
      "20000/20000 [==============================] - 2s 79us/step - loss: 0.3167 - acc: 0.9114 - val_loss: 0.4012 - val_acc: 0.8840\n",
      "Epoch 79/100\n",
      "20000/20000 [==============================] - 2s 80us/step - loss: 0.3150 - acc: 0.9113 - val_loss: 0.4006 - val_acc: 0.8842\n",
      "Epoch 80/100\n",
      "20000/20000 [==============================] - 2s 80us/step - loss: 0.3138 - acc: 0.9126 - val_loss: 0.3992 - val_acc: 0.8844\n",
      "Epoch 81/100\n",
      "20000/20000 [==============================] - 2s 79us/step - loss: 0.3122 - acc: 0.9122 - val_loss: 0.3979 - val_acc: 0.8852\n",
      "Epoch 82/100\n",
      "20000/20000 [==============================] - 2s 80us/step - loss: 0.3110 - acc: 0.9129 - val_loss: 0.3950 - val_acc: 0.8858\n",
      "Epoch 83/100\n",
      "20000/20000 [==============================] - 2s 80us/step - loss: 0.3095 - acc: 0.9123 - val_loss: 0.3945 - val_acc: 0.8856\n",
      "Epoch 84/100\n",
      "20000/20000 [==============================] - 2s 83us/step - loss: 0.3082 - acc: 0.9138 - val_loss: 0.3932 - val_acc: 0.8858\n",
      "Epoch 85/100\n",
      "20000/20000 [==============================] - 2s 98us/step - loss: 0.3069 - acc: 0.9135 - val_loss: 0.3914 - val_acc: 0.8864\n",
      "Epoch 86/100\n",
      "20000/20000 [==============================] - 2s 97us/step - loss: 0.3057 - acc: 0.9139 - val_loss: 0.3896 - val_acc: 0.8868\n",
      "Epoch 87/100\n",
      "20000/20000 [==============================] - 2s 109us/step - loss: 0.3044 - acc: 0.9144 - val_loss: 0.3896 - val_acc: 0.8874\n",
      "Epoch 88/100\n",
      "20000/20000 [==============================] - 2s 102us/step - loss: 0.3029 - acc: 0.9154 - val_loss: 0.3879 - val_acc: 0.8872\n",
      "Epoch 89/100\n",
      "20000/20000 [==============================] - 2s 96us/step - loss: 0.3019 - acc: 0.9149 - val_loss: 0.3883 - val_acc: 0.8882\n",
      "Epoch 90/100\n",
      "20000/20000 [==============================] - 2s 92us/step - loss: 0.3007 - acc: 0.9153 - val_loss: 0.3869 - val_acc: 0.8874\n",
      "Epoch 91/100\n",
      "20000/20000 [==============================] - 2s 92us/step - loss: 0.2996 - acc: 0.9158 - val_loss: 0.3839 - val_acc: 0.8882\n",
      "Epoch 92/100\n",
      "20000/20000 [==============================] - 2s 91us/step - loss: 0.2982 - acc: 0.9154 - val_loss: 0.3832 - val_acc: 0.8884\n",
      "Epoch 93/100\n",
      "20000/20000 [==============================] - 2s 92us/step - loss: 0.2973 - acc: 0.9153 - val_loss: 0.3821 - val_acc: 0.8870\n",
      "Epoch 94/100\n",
      "20000/20000 [==============================] - 2s 90us/step - loss: 0.2962 - acc: 0.9161 - val_loss: 0.3817 - val_acc: 0.8892\n",
      "Epoch 95/100\n",
      "20000/20000 [==============================] - 2s 92us/step - loss: 0.2949 - acc: 0.9165 - val_loss: 0.3809 - val_acc: 0.8890\n",
      "Epoch 96/100\n",
      "20000/20000 [==============================] - 2s 92us/step - loss: 0.2940 - acc: 0.9171 - val_loss: 0.3796 - val_acc: 0.8892\n",
      "Epoch 97/100\n",
      "20000/20000 [==============================] - 2s 91us/step - loss: 0.2930 - acc: 0.9168 - val_loss: 0.3791 - val_acc: 0.8896\n",
      "Epoch 98/100\n",
      "20000/20000 [==============================] - 2s 93us/step - loss: 0.2919 - acc: 0.9175 - val_loss: 0.3772 - val_acc: 0.8894\n",
      "Epoch 99/100\n",
      "20000/20000 [==============================] - 2s 91us/step - loss: 0.2908 - acc: 0.9174 - val_loss: 0.3769 - val_acc: 0.8910\n",
      "Epoch 100/100\n",
      "20000/20000 [==============================] - 2s 91us/step - loss: 0.2897 - acc: 0.9177 - val_loss: 0.3762 - val_acc: 0.8912\n"
     ]
    }
   ],
   "source": [
    "from keras.optimizers import SGD\n",
    "\n",
    "# Typical learning rate for SGD\n",
    "learnRate = 0.01\n",
    "opt = SGD(learnRate)\n",
    "\n",
    "# Compile the model\n",
    "model.compile(loss=\"categorical_crossentropy\", optimizer=opt,\n",
    "              metrics=[\"accuracy\"])\n",
    "\n",
    "# The run the stochastic gradient descent algorithm\n",
    "H = model.fit(trainX, trainY, validation_data=(testX, testY),\n",
    "              epochs=100, batch_size=64)"
   ]
  },
  {
   "cell_type": "markdown",
   "metadata": {},
   "source": [
    "That's it! Training has finished and our model is ready to make prediction about the testing data. Let's just make a prediction about one image to illustrate."
   ]
  },
  {
   "cell_type": "code",
   "execution_count": 11,
   "metadata": {},
   "outputs": [
    {
     "name": "stdout",
     "output_type": "stream",
     "text": [
      "Model expects this shape data: (1, 784)\n",
      "\n",
      "Predictions are a vector of probabilities:\n",
      " [[2.0382610e-04 5.0947851e-06 1.6456343e-04 3.2723553e-03 1.9162012e-06\n",
      "  7.5556614e-05 3.9939000e-08 9.9414921e-01 2.3220899e-05 2.1041371e-03]]\n",
      "\n",
      "Predicted digit is 7\n"
     ]
    },
    {
     "data": {
      "image/png": "[encoded data removed]",
      "text/plain": [
       "<Figure size 432x288 with 1 Axes>"
      ]
     },
     "metadata": {},
     "output_type": "display_data"
    }
   ],
   "source": [
    "# Select a single image - a batch of 1\n",
    "testX_1 = testX[0].reshape(1, 784)\n",
    "print(\"Model expects this shape data:\",testX_1.shape)\n",
    "\n",
    "# Plot the image\n",
    "plt.imshow(testX_1[0].reshape(28, 28))\n",
    "\n",
    "# Make a prediction\n",
    "predictions = model.predict(testX_1, batch_size=1)\n",
    "print(\"\\nPredictions are a vector of probabilities:\\n\", predictions)\n",
    "\n",
    "# Select index of the highest probability\n",
    "indx = np.argmax(predictions)\n",
    "print(\"\\nPredicted digit is\", lb.classes_[indx])"
   ]
  },
  {
   "cell_type": "markdown",
   "metadata": {},
   "source": [
    "Scikit learn comes with a handy function to report useful classification statistics:"
   ]
  },
  {
   "cell_type": "code",
   "execution_count": 12,
   "metadata": {},
   "outputs": [
    {
     "name": "stdout",
     "output_type": "stream",
     "text": [
      "             precision    recall  f1-score   support\n",
      "\n",
      "          0       0.92      0.98      0.95       460\n",
      "          1       0.93      0.97      0.95       571\n",
      "          2       0.91      0.87      0.89       530\n",
      "          3       0.87      0.89      0.88       500\n",
      "          4       0.88      0.91      0.89       500\n",
      "          5       0.85      0.83      0.84       456\n",
      "          6       0.92      0.90      0.91       462\n",
      "          7       0.90      0.87      0.88       512\n",
      "          8       0.88      0.82      0.85       489\n",
      "          9       0.85      0.86      0.86       520\n",
      "\n",
      "avg / total       0.89      0.89      0.89      5000\n",
      "\n"
     ]
    }
   ],
   "source": [
    "from sklearn.metrics import classification_report\n",
    "\n",
    "# Make predictions\n",
    "predictions = model.predict(testX, batch_size=128)\n",
    "\n",
    "# Print a formatted report\n",
    "print(classification_report(testY.argmax(axis=1),\n",
    "                            predictions.argmax(axis=1),\n",
    "                            target_names=[str(x) for x in lb.classes_]))"
   ]
  },
  {
   "cell_type": "markdown",
   "metadata": {},
   "source": [
    "We achieve an average precision of 89 %, which is not bad compared to our random chance of 1/10.\n",
    "\n",
    "Let's go back and plot some key curves for the training process - loss and accuracy. These were stored in our history object."
   ]
  },
  {
   "cell_type": "code",
   "execution_count": 14,
   "metadata": {},
   "outputs": [
    {
     "data": {
      "text/plain": [
       "<matplotlib.legend.Legend at 0x7f41944494a8>"
      ]
     },
     "execution_count": 14,
     "metadata": {},
     "output_type": "execute_result"
    },
    {
     "data": {
      "image/png": "[encoded data removed]",
      "text/plain": [
       "<Figure size 864x576 with 1 Axes>"
      ]
     },
     "metadata": {},
     "output_type": "display_data"
    }
   ],
   "source": [
    "plt.figure(figsize=(12,8))\n",
    "plt.plot(np.arange(0, 100), H.history[\"loss\"], label=\"train_loss\")\n",
    "plt.plot(np.arange(0, 100), H.history[\"val_loss\"], label=\"val_loss\")\n",
    "plt.plot(np.arange(0, 100), H.history[\"acc\"], label=\"train_acc\")\n",
    "plt.plot(np.arange(0, 100), H.history[\"val_acc\"], label=\"val_acc\")\n",
    "plt.title(\"Training Loss and Accuracy\")\n",
    "plt.xlabel(\"Epoch #\")\n",
    "plt.ylabel(\"Loss/Accuracy\")\n",
    "plt.legend()"
   ]
  },
  {
   "cell_type": "code",
   "execution_count": null,
   "metadata": {},
   "outputs": [],
   "source": []
  }
 ],
 "metadata": {
  "kernelspec": {
   "display_name": "Python 3",
   "language": "python",
   "name": "python3"
  },
  "language_info": {
   "codemirror_mode": {
    "name": "ipython",
    "version": 3
   },
   "file_extension": ".py",
   "mimetype": "text/x-python",
   "name": "python",
   "nbconvert_exporter": "python",
   "pygments_lexer": "ipython3",
   "version": "3.6.5"
  }
 },
 "nbformat": 4,
 "nbformat_minor": 2
}
